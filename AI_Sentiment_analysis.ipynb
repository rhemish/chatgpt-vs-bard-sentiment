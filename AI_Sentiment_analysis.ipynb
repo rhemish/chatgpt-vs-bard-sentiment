{
 "cells": [
  {
   "cell_type": "code",
   "execution_count": 19,
   "id": "19f0775d-975a-4bc0-a0c0-68546f53bba2",
   "metadata": {},
   "outputs": [],
   "source": [
    "#Importing libraries\n",
    "import praw\n",
    "import pandas as pd\n",
    "from textblob import TextBlob\n",
    "from datetime import datetime\n",
    "\n",
    "#Reddit credentials\n",
    "reddit = praw.Reddit(\n",
    "    client_id=\"DmOlaVsQER7B6QrHpFvj7A\",         \n",
    "    client_secret=\"A_F8imgZLu8CoX8twzxBMA4K72WEeA\",  \n",
    "    user_agent=\"SentimentScraper by /u/Balleriner\",\n",
    "    username=\"Balleriner\",\n",
    "    password=\"*******\"  #redacted for security\n",
    ")"
   ]
  },
  {
   "cell_type": "code",
   "execution_count": 23,
   "id": "dbec7237-71b9-43a0-9b39-39eaaf99c685",
   "metadata": {},
   "outputs": [],
   "source": [
    "#Scraper function\n",
    "def scrape_subreddit(subreddit_name, label, limit=100):\n",
    "    posts = []\n",
    "    for submission in reddit.subreddit(subreddit_name).hot(limit=limit):\n",
    "        text = submission.title + \" \" + submission.selftext\n",
    "        posts.append([submission.created_utc, text, label])\n",
    "    return posts\n",
    "\n",
    "#Scraping posts\n",
    "chatgpt_posts = scrape_subreddit(\"ChatGPT\", \"ChatGPT\")\n",
    "bard_posts = scrape_subreddit(\"Bard\", \"Bard\")\n",
    "\n",
    "#Combining data\n",
    "data = chatgpt_posts + bard_posts\n",
    "df = pd.DataFrame(data, columns=[\"Timestamp\", \"Post\", \"Topic\"])"
   ]
  },
  {
   "cell_type": "code",
   "execution_count": 25,
   "id": "b787fd41-71b7-42f2-9ebf-48ccd111fe85",
   "metadata": {},
   "outputs": [
    {
     "name": "stdout",
     "output_type": "stream",
     "text": [
      "ChatGPT posts: 100\n",
      "Bard posts: 100\n"
     ]
    }
   ],
   "source": [
    "#Checking number of posts scraped\n",
    "print(f\"ChatGPT posts: {len(chatgpt_posts)}\")\n",
    "print(f\"Bard posts: {len(bard_posts)}\")"
   ]
  },
  {
   "cell_type": "code",
   "execution_count": 27,
   "id": "77f1f339-2e4c-4713-95f6-4667b2b2e1d6",
   "metadata": {},
   "outputs": [
    {
     "data": {
      "text/html": [
       "<div>\n",
       "<style scoped>\n",
       "    .dataframe tbody tr th:only-of-type {\n",
       "        vertical-align: middle;\n",
       "    }\n",
       "\n",
       "    .dataframe tbody tr th {\n",
       "        vertical-align: top;\n",
       "    }\n",
       "\n",
       "    .dataframe thead th {\n",
       "        text-align: right;\n",
       "    }\n",
       "</style>\n",
       "<table border=\"1\" class=\"dataframe\">\n",
       "  <thead>\n",
       "    <tr style=\"text-align: right;\">\n",
       "      <th></th>\n",
       "      <th>Timestamp</th>\n",
       "      <th>Post</th>\n",
       "      <th>Topic</th>\n",
       "    </tr>\n",
       "  </thead>\n",
       "  <tbody>\n",
       "    <tr>\n",
       "      <th>0</th>\n",
       "      <td>1.739061e+09</td>\n",
       "      <td>Calling AI Researchers &amp; Startup Founders To J...</td>\n",
       "      <td>ChatGPT</td>\n",
       "    </tr>\n",
       "    <tr>\n",
       "      <th>1</th>\n",
       "      <td>1.753149e+09</td>\n",
       "      <td>Why does chatgpt keep doing this? I've tried s...</td>\n",
       "      <td>ChatGPT</td>\n",
       "    </tr>\n",
       "    <tr>\n",
       "      <th>2</th>\n",
       "      <td>1.753211e+09</td>\n",
       "      <td>RIP Ozzy Prince of Darkness going into the Lig...</td>\n",
       "      <td>ChatGPT</td>\n",
       "    </tr>\n",
       "    <tr>\n",
       "      <th>3</th>\n",
       "      <td>1.753203e+09</td>\n",
       "      <td>just added ChatGPT to my calculator Demo on Yo...</td>\n",
       "      <td>ChatGPT</td>\n",
       "    </tr>\n",
       "    <tr>\n",
       "      <th>4</th>\n",
       "      <td>1.753171e+09</td>\n",
       "      <td>Back to the Future as a community theater prod...</td>\n",
       "      <td>ChatGPT</td>\n",
       "    </tr>\n",
       "  </tbody>\n",
       "</table>\n",
       "</div>"
      ],
      "text/plain": [
       "      Timestamp                                               Post    Topic\n",
       "0  1.739061e+09  Calling AI Researchers & Startup Founders To J...  ChatGPT\n",
       "1  1.753149e+09  Why does chatgpt keep doing this? I've tried s...  ChatGPT\n",
       "2  1.753211e+09  RIP Ozzy Prince of Darkness going into the Lig...  ChatGPT\n",
       "3  1.753203e+09  just added ChatGPT to my calculator Demo on Yo...  ChatGPT\n",
       "4  1.753171e+09  Back to the Future as a community theater prod...  ChatGPT"
      ]
     },
     "execution_count": 27,
     "metadata": {},
     "output_type": "execute_result"
    }
   ],
   "source": [
    "df.head()"
   ]
  },
  {
   "cell_type": "code",
   "execution_count": 29,
   "id": "03a6fe6f-68e0-408f-8cad-2fed0d0b4ecc",
   "metadata": {},
   "outputs": [],
   "source": [
    "#Polarity + Sentiment classification\n",
    "def get_polarity(text):\n",
    "    return TextBlob(text).sentiment.polarity\n",
    "\n",
    "def classify_sentiment(score):\n",
    "    if score > 0.05:\n",
    "        return \"Positive\"\n",
    "    elif score < -0.05:\n",
    "        return \"Negative\"\n",
    "    else:\n",
    "        return \"Neutral\"\n",
    "\n",
    "df[\"Polarity\"] = df[\"Post\"].apply(get_polarity)\n",
    "df[\"Sentiment\"] = df[\"Polarity\"].apply(classify_sentiment)\n",
    "\n",
    "#Converting timestamp to readable date\n",
    "df[\"Date\"] = pd.to_datetime(df[\"Timestamp\"], unit=\"s\")"
   ]
  },
  {
   "cell_type": "code",
   "execution_count": 31,
   "id": "c352acdb-958d-4be0-a3cb-323eb83ba63b",
   "metadata": {},
   "outputs": [
    {
     "name": "stdout",
     "output_type": "stream",
     "text": [
      "CSV saved as reddit_chatgpt_vs_bard_20250722_1542.csv\n"
     ]
    }
   ],
   "source": [
    "from datetime import datetime\n",
    "\n",
    "filename = f\"reddit_chatgpt_vs_bard_{datetime.now().strftime('%Y%m%d_%H%M')}.csv\"\n",
    "df.to_csv(filename, index=False)\n",
    "\n",
    "print(f\"CSV saved as {filename}\")"
   ]
  },
  {
   "cell_type": "code",
   "execution_count": null,
   "id": "e5318f67-2f10-4b67-b2f6-a0e62071885f",
   "metadata": {},
   "outputs": [],
   "source": []
  }
 ],
 "metadata": {
  "kernelspec": {
   "display_name": "Python [conda env:base] *",
   "language": "python",
   "name": "conda-base-py"
  },
  "language_info": {
   "codemirror_mode": {
    "name": "ipython",
    "version": 3
   },
   "file_extension": ".py",
   "mimetype": "text/x-python",
   "name": "python",
   "nbconvert_exporter": "python",
   "pygments_lexer": "ipython3",
   "version": "3.12.3"
  }
 },
 "nbformat": 4,
 "nbformat_minor": 5
}
